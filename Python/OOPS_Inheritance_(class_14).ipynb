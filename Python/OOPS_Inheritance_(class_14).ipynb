{
  "nbformat": 4,
  "nbformat_minor": 0,
  "metadata": {
    "colab": {
      "provenance": [],
      "authorship_tag": "ABX9TyP3BngRrrY1Gcq0yiUYUWX5",
      "include_colab_link": true
    },
    "kernelspec": {
      "name": "python3",
      "display_name": "Python 3"
    },
    "language_info": {
      "name": "python"
    }
  },
  "cells": [
    {
      "cell_type": "markdown",
      "metadata": {
        "id": "view-in-github",
        "colab_type": "text"
      },
      "source": [
        "<a href=\"https://colab.research.google.com/github/Yashveer-Gahlot/Assignments/blob/main/Python/OOPS_Inheritance_(class_14).ipynb\" target=\"_parent\"><img src=\"https://colab.research.google.com/assets/colab-badge.svg\" alt=\"Open In Colab\"/></a>"
      ]
    },
    {
      "cell_type": "code",
      "execution_count": null,
      "metadata": {
        "id": "29vXOu7M1X27"
      },
      "outputs": [],
      "source": [
        "#~~~~~~~INHERITANCE~~~~~~~~~\n",
        "\n",
        "#what is inheritance -> when we are willing to use one class function into another class this concept is called inheritance.\n",
        "#when i am able to call func of another class using object of other class\n",
        "#for ex-> if there is a class a with function test and i have to use the same func test in class b i have to inherit class a to b to use it (example below)\n",
        "\n",
        "# if there are 3 class -> class a,class b,class c and we have to inherit class a and class b into class c so we have to first inherit class a into class b and class b into class c\n",
        "# by this all the functions which are in class a will be available to class b and all the functions which are available to class a and class b will be in class c. (example below)\n",
        "# this is know as ''' MULTILEVEL- INHERITANCE'''\n",
        "\n",
        "# if we have to inherit mutliple classes into a single class at single time we can use multiple-inheritance(example below)\n",
        "# if there are two same name function in different classes and you inhertied both the classes and now if you call the same function using the object the function which is called\n",
        "# In multilevel-inheritance it will be from the class which is inhertied lastly that class function will be called and in multiple inheritance also the classwhich is after the\n",
        "# comma means which is inherited lastly that class function will be called\n",
        "\n",
        "# now we can also call same function from different classes at once\n",
        "# super() -> using super we can call the function of parent class to the funtion of child class  (example below)\n",
        "# using super we can use function from immediate parent class to child class whats important here is immediate parent or the class which is inherited lastly\n",
        "# all the function which are starting from __ and ending from __ are dunder funciton\n",
        "# __init__() -> this is constructor whic helps us for creating a object and pass value as arguement while creating the object now whenever we have to use multiple variables\n",
        "# for various class function we need to acces the variable not normally but as self.var_name\n",
        "# __del__() ->. this is know as destructor in class its function is to automatically delete the object once its done working with the class.\n",
        "# in first time it will not be called because the object is just created but when the class will be in use for second time then the previous object will be destroyed and\n",
        "# and with the help of __init__() (constructor) a new object will be called\n",
        "# there is dunder method known as __str()__ it is used for giving object a property if we print the object it will give that value.\n",
        "\n",
        "# DECORATORS\n",
        "# if we have to do same thingh in many functions like to display a greeting and thank you message for before and after using the function in every function\n",
        "# in my class or program so i have to use decorator or if i have to pass a function as parameter or return a function so the i need to use a decorator\n",
        "\n",
        "# *ARGS *KWARGS\n",
        "\n"
      ]
    },
    {
      "cell_type": "code",
      "source": [
        "# this is the simple example of inheritance\n",
        "class a:\n",
        "  def test(self):\n",
        "    print(\"Inheritance is done\")\n",
        "class b(a):     # we have to pass name of class inside parenthesis of other class in order to inherit its functions\n",
        "  pass\n",
        "obj_a=a()\n",
        "obj_b=b()\n",
        "obj_b.test()"
      ],
      "metadata": {
        "colab": {
          "base_uri": "https://localhost:8080/"
        },
        "id": "TydNrY92AKv1",
        "outputId": "67c4e01a-d25f-4e60-9d75-f2d51ec84e53"
      },
      "execution_count": null,
      "outputs": [
        {
          "output_type": "stream",
          "name": "stdout",
          "text": [
            "Inheritance is done\n"
          ]
        }
      ]
    },
    {
      "cell_type": "code",
      "source": [
        "class lecture:\n",
        "  def timing(self):\n",
        "    print(\"Classes will be starting from 8 AM IST\")\n",
        "  def location(self):\n",
        "    print(\"INMIT COLLEGE BANGALORE\")\n",
        "class student(lecture):\n",
        "  def stu_details(self):\n",
        "    print(\"Hello there my name is yash\")\n",
        "  def timing(self):\n",
        "    print(\"Today i will be leaving early\")      # this is know as ''' MULTILEVEL- INHERITANCE'''\n",
        "class teacher(student):                         # this is how you can inherit 2 different classes into a single class using a level format\n",
        "  def te_detail(self):\n",
        "    print(\"This will give you details for your teacher\")\n",
        "obj_t=teacher()\n",
        "obj_t.timing()\n",
        "obj_t.location()\n",
        "obj_t.stu_details()\n"
      ],
      "metadata": {
        "colab": {
          "base_uri": "https://localhost:8080/"
        },
        "id": "Qa7fCz8hB6w0",
        "outputId": "c9c6638f-3047-4ffa-c523-0a0263e09317"
      },
      "execution_count": null,
      "outputs": [
        {
          "output_type": "stream",
          "name": "stdout",
          "text": [
            "Today i will be leaving early\n",
            "INMIT COLLEGE BANGALORE\n",
            "Hello there my name is yash\n"
          ]
        }
      ]
    },
    {
      "cell_type": "code",
      "source": [
        "#example for multiple inheritance\n",
        "class lecture:\n",
        "  def timing(self):\n",
        "    print(\"Classes will be starting from 8 AM IST\")\n",
        "  def location(self):\n",
        "    print(\"INMIT COLLEGE BANGALORE\")\n",
        "class student:\n",
        "  def stu_details(self):\n",
        "    print(\"Hello there my name is yash\")\n",
        "    def timing(self):\n",
        "      print(\"Today i will be leaving early\")       # this is know as ''' MULTIPLE- INHERITANCE'''\n",
        "class teacher(student,lecture):                 # this is how you can inherit 2 different classes into a single class at once\n",
        "  def te_detail(self):\n",
        "    print(\"This will give you details for your teacher\")\n",
        "obj_t=teacher()\n",
        "obj_t.timing()\n",
        "obj_t.location()\n",
        "obj_t.stu_details()"
      ],
      "metadata": {
        "colab": {
          "base_uri": "https://localhost:8080/"
        },
        "id": "yivOlH5SNflL",
        "outputId": "e3a6a649-6e5f-4e5e-a0a8-3731b49ee5aa"
      },
      "execution_count": null,
      "outputs": [
        {
          "output_type": "stream",
          "name": "stdout",
          "text": [
            "Classes will be starting from 8 AM IST\n",
            "INMIT COLLEGE BANGALORE\n",
            "Hello there my name is yash\n"
          ]
        }
      ]
    },
    {
      "cell_type": "code",
      "source": [
        "#problem 1\n",
        "#Bank Account Create a class representing a bank account with attributes like account number, account holder name, and balance. Implement methods to deposit and\n",
        "#withdraw money from the account.\n",
        "class BankAccount:\n",
        "  global ac\n",
        "  def account_number(self):\n",
        "    ac=986123485912\n",
        "    print(\"Your A/C no. is\",ac)\n",
        "  def account_holder_name(self):\n",
        "    print(\"Account holder name is YASH\")\n",
        "  def balance(self):\n",
        "    a=17300000\n",
        "    print(\"Your balance is\",a)\n",
        "  def deposit(self):\n",
        "    a=17300000\n",
        "    ac=986123485912\n",
        "    d=int(input(\"Enter the amount for deposting in you bank account : \"))\n",
        "    print(d,\"Money credited in your bank_account no\")\n",
        "  def withdraw(self):\n",
        "    a=17300000\n",
        "    ac=986123485912\n",
        "    w=int(input(\"Enter the amount you want to withdraw from your bank account : \"))\n",
        "    print(w,\"Money is debited from your bank_account no\")\n",
        "obj=BankAccount()\n",
        "obj.account_number()\n",
        "obj.account_holder_name()\n",
        "obj.balance()\n",
        "obj.deposit()\n",
        "obj.withdraw()"
      ],
      "metadata": {
        "id": "-ItkrgstOdTG",
        "colab": {
          "base_uri": "https://localhost:8080/"
        },
        "outputId": "04007a5c-1107-4d46-a93f-d8e031137aff"
      },
      "execution_count": null,
      "outputs": [
        {
          "output_type": "stream",
          "name": "stdout",
          "text": [
            "Your A/C no. is 986123485912\n",
            "Account holder name is YASH\n",
            "Your balance is 17300000\n",
            "Enter the amount for deposting in you bank account : 2700000\n",
            "2700000 Money credited in your bank_account no 986123485912 Total balance 20000000\n",
            "Enter the amount you want to withdraw from your bank account : 2700000\n",
            "2700000 Money is debited from your bank_account no 986123485912 Total balance 14600000\n"
          ]
        }
      ]
    },
    {
      "cell_type": "code",
      "source": [
        "#Problem 2: Employee Management Create a class representing an employee with attributes like employee ID, name, and salary.\n",
        "#Implement methods to calculate the yearly bonus and display employee details.\n",
        "class Employee_Management:\n",
        "  def employee_details(self):\n",
        "    print(\"The employee id is SD231\")\n",
        "    print(\"Employee name is YASH\")\n",
        "    print(\"Employee salary is 2500000\")\n",
        "    a=12*250000\n",
        "    b=round((10*a)/100)\n",
        "    print(\"Yearly bonous is of\",b)\n",
        "  def employee_ID(self):\n",
        "    print(\"The employee id is SD231\")\n",
        "  def name(self):\n",
        "    print(\"Employee name is YASH\")\n",
        "  def salary(self):\n",
        "    print(\"Employee salary is 2500000\")\n",
        "  def bonous(self):\n",
        "    a=12*250000\n",
        "    b=round((10*a)/100)\n",
        "    print(\"Yearly bonous is of\",b)\n",
        "ob=Employee_Management()\n",
        "ob.employee_ID()\n",
        "ob.name()\n",
        "ob.salary()\n",
        "ob.bonous()"
      ],
      "metadata": {
        "colab": {
          "base_uri": "https://localhost:8080/"
        },
        "id": "TpBZ47siCq2O",
        "outputId": "ebfaf5d1-535e-4a3d-e604-1a98230b5fca"
      },
      "execution_count": null,
      "outputs": [
        {
          "output_type": "stream",
          "name": "stdout",
          "text": [
            "The employee id is SD231\n",
            "Employee name is YASH\n",
            "Employee salary is 2500000\n",
            "Yearly bonous is of 300000\n"
          ]
        }
      ]
    },
    {
      "cell_type": "code",
      "source": [
        "#Problem 3: Vehicle Rental Create a class representing a vehicle rental system. Implement methods to rent a vehicle, return a vehicle, and display available vehicles.\n",
        "class Vehicle_Rental:\n",
        "  def rent(self):\n",
        "    print(\"10000 for a Hedgeback, Security amount=100000\")\n",
        "    print(\"15000 for a Sedan, Security amount=250000\")\n",
        "    print(\"20000 for a SUV, Security amount=500000\")\n",
        "    a=input(\"Enter H for renting hedgeback and s for renting sedan and S for renting suv : \")\n",
        "    if a=='H':\n",
        "      print(\"Hedgeback rented for ruppess 10k and Security amount is 100000\")\n",
        "    if a=='s':\n",
        "      print(\"sedan rented for ruppess 15k and Security amount is 250000\")\n",
        "    if a=='S':\n",
        "      print(\"SUV rented for ruppess 20k and Security amount is 500000\")\n",
        "  def return_vehicle(self):\n",
        "    n=input(\"Enter H for returning hedgeback and s for returning sedan and S for returning suv : \")\n",
        "    if n=='H':\n",
        "      print(\"Hedgeback returned amount received and Security amount is refunded\")\n",
        "    if n=='s':\n",
        "      print(\"sedan returned amount received and Security amount is refunded\")\n",
        "    if n=='S':\n",
        "      print(\"SUV returned amount received and Security amount is refunded\")\n",
        "  def display(self):\n",
        "    print(\"there are 10 hedgeback available\")\n",
        "    print(\"there are 15 sedan available\")\n",
        "    print(\"there are 07 SUV available\")\n",
        "o=Vehicle_Rental()\n",
        "o.rent()\n",
        "o.return_vehicle()\n",
        "o.display()\n"
      ],
      "metadata": {
        "colab": {
          "base_uri": "https://localhost:8080/"
        },
        "id": "0MoWSoifFK_A",
        "outputId": "ae2960d8-3a4d-4fad-8886-d7d0ca56ef05"
      },
      "execution_count": null,
      "outputs": [
        {
          "output_type": "stream",
          "name": "stdout",
          "text": [
            "10000 for a Hedgeback, Security amount=100000\n",
            "15000 for a Sedan, Security amount=250000\n",
            "20000 for a SUV, Security amount=500000\n",
            "Enter H for renting hedgeback and s for renting sedan and S for renting suv : H\n",
            "Hedgeback rented for ruppess 10k and Security amount is 100000\n",
            "Enter H for returning hedgeback and s for returning sedan and S for returning suv : H\n",
            "Hedgeback returned amount received and Security amount is refunded\n",
            "there are 10 hedgeback available\n",
            "there are 15 sedan available\n",
            "there are 07 SUV available\n"
          ]
        }
      ]
    },
    {
      "cell_type": "code",
      "source": [
        "class human:\n",
        "  def __init__(self):\n",
        "    pass\n",
        "  def eat(self):\n",
        "    print(\"This function is from human class\")\n",
        "class female(human):\n",
        "  def __init__(self):\n",
        "    pass\n",
        "  def eat(self):\n",
        "    print(\"This function is from female class\")\n",
        "class male(female):\n",
        "  def __init__(self,name):\n",
        "    self.name=name\n",
        "  def eat(self):\n",
        "    super().eat()\n",
        "    print(self.name)\n",
        "ob=male(\"yash\")\n",
        "ob.eat()\n"
      ],
      "metadata": {
        "colab": {
          "base_uri": "https://localhost:8080/"
        },
        "id": "BiJ4dhI8Efyp",
        "outputId": "0acc1191-d09e-45c7-a8cf-5bb06b55679f"
      },
      "execution_count": null,
      "outputs": [
        {
          "output_type": "stream",
          "name": "stdout",
          "text": [
            "This function is from female class\n",
            "This function is from female class\n",
            "yash\n"
          ]
        }
      ]
    },
    {
      "cell_type": "code",
      "source": [
        "class fileopener:\n",
        "  def __init__(self,filename):\n",
        "    self.filename=filename\n",
        "  def open_file(self):\n",
        "    print(\"File will be opening soon\")\n",
        "  def __del__(self):\n",
        "    print(\"Close the file\")\n",
        "  def __str__(self):\n",
        "    return \"Object called\"\n",
        "f1=fileopener(\"qw.txt\")\n",
        "\n",
        "f1.open_file()\n",
        "print"
      ],
      "metadata": {
        "colab": {
          "base_uri": "https://localhost:8080/"
        },
        "id": "rqAPNMPgs_un",
        "outputId": "42a36048-c97b-458c-c0e2-bddd45981f15"
      },
      "execution_count": 7,
      "outputs": [
        {
          "output_type": "stream",
          "name": "stdout",
          "text": [
            "File will be opening soonClose the file\n",
            "\n",
            "Object called\n"
          ]
        }
      ]
    },
    {
      "cell_type": "code",
      "source": [
        "# Decorator example\n",
        "def greet(fx):\n",
        "  def mf():\n",
        "    print(\"Good morning\")\n",
        "    fx()\n",
        "    print(\"Thank you for using this function\")\n",
        "  return mf\n",
        "@greet\n",
        "def hello():\n",
        "  print(\"Hello everyone\")\n",
        "hello()"
      ],
      "metadata": {
        "id": "tJo46N-9xDlW",
        "colab": {
          "base_uri": "https://localhost:8080/"
        },
        "outputId": "2a6deddb-792b-485f-9fa4-6fded435d302"
      },
      "execution_count": 8,
      "outputs": [
        {
          "output_type": "stream",
          "name": "stdout",
          "text": [
            "Good morning\n",
            "Hello everyone\n",
            "Thank you for using this function\n"
          ]
        }
      ]
    },
    {
      "cell_type": "code",
      "source": [
        "#one more example\n",
        "def check_time(fx):\n",
        "  def fun():\n",
        "    fx()\n",
        "    a=int(input(\"Enter the time \"))\n",
        "    if (a>9):\n",
        "      print(\"YES! its bed time\")\n",
        "    else:\n",
        "      print(\"NO! its not bed time\")\n",
        "  return fun\n",
        "@check_time\n",
        "def bed():\n",
        "  print(\"checking time\")\n",
        "bed()\n",
        "# the code is perfect but dont know its not running perfectly on collab bcz of online compiler"
      ],
      "metadata": {
        "id": "rFvrAMwszOQc"
      },
      "execution_count": null,
      "outputs": []
    }
  ]
}