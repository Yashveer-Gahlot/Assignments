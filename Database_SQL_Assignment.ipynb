{
  "nbformat": 4,
  "nbformat_minor": 0,
  "metadata": {
    "colab": {
      "provenance": [],
      "authorship_tag": "ABX9TyPcWRzOOqOdeT1L1TRJpPbb",
      "include_colab_link": true
    },
    "kernelspec": {
      "name": "python3",
      "display_name": "Python 3"
    },
    "language_info": {
      "name": "python"
    }
  },
  "cells": [
    {
      "cell_type": "markdown",
      "metadata": {
        "id": "view-in-github",
        "colab_type": "text"
      },
      "source": [
        "<a href=\"https://colab.research.google.com/github/Yashveer-Gahlot/Assignments/blob/main/Database_SQL_Assignment.ipynb\" target=\"_parent\"><img src=\"https://colab.research.google.com/assets/colab-badge.svg\" alt=\"Open In Colab\"/></a>"
      ]
    },
    {
      "cell_type": "code",
      "execution_count": null,
      "metadata": {
        "id": "aVzIdnF4tyeq"
      },
      "outputs": [],
      "source": [
        "# Differentiating between SQL and NoSQL databases\n",
        "\n",
        "# A database is a tool that organizes and stores information\n",
        "\n",
        "# SQL\n",
        "\n",
        "# -> its a RDBMS(relational databse management system)\n",
        "# -> the databases hae fixed or static or predefined schema\n",
        "\n",
        "# -> its not suitable for hierarchical data storage\n",
        "\n",
        "# -> Vertically Scalable\n",
        "\n",
        "# -> Follows ACID propety\n",
        "\n",
        "# NoSQL\n",
        "\n",
        "# -> its non RDBMS\n",
        "# -> they have dynamic schema\n",
        "# -> its suitable for hierarchial data storage\n",
        "# -> Horizontal scalable\n",
        "# -> Follows CAP\n"
      ]
    },
    {
      "cell_type": "code",
      "source": [
        "\n",
        "# DDL stands for Data Definition Language, a subset of SQL commands used to define and manage the structure of a database and its objects (like tables, indexes, schemas, etc.).\n",
        "\n",
        "# CREATE: Used to create a new database object like a table, view, or index.\n",
        "CREATE TABLE Employees (\n",
        "    EmployeeID INT PRIMARY KEY,\n",
        "    Name VARCHAR(50),\n",
        "    Department VARCHAR(50),\n",
        "    Salary DECIMAL(10, 2)\n",
        ");\n",
        "\n",
        "\n",
        "# DROP: Used to delete existing database objects permanently.\n",
        "\n",
        "DROP TABLE Employees;\n",
        "\n",
        "\n",
        "# ALTER: Used to modify the structure of an existing database object, such as adding or dropping columns.\n",
        "\n",
        "\n",
        "ALTER TABLE Employees ADD Email VARCHAR(100);\n",
        "\n",
        "\n",
        "\n",
        "# TRUNCATE: Used to delete all rows from a table but retains the table structure.\n",
        "\n",
        "TRUNCATE TABLE Employees;\n",
        "\n",
        "\n"
      ],
      "metadata": {
        "id": "2YhMgyHevrVt"
      },
      "execution_count": null,
      "outputs": []
    },
    {
      "cell_type": "code",
      "source": [
        "# DML stands for Data Manipulation Language, a subset of SQL commands used to manipulate the data stored in a database\n",
        "\n",
        "\n",
        "# INSERT: Adds new records (rows) to a table.\n",
        "\n",
        "\n",
        "# INSERT INTO table_name (column1, column2, ...)\n",
        "# VALUES (value1, value2, ...);\n",
        "\n",
        "\n",
        "# INSERT INTO Employees (EmployeeID, Name, Department, Salary)\n",
        "# VALUES (101, 'Alice', 'HR', 50000);\n",
        "\n",
        "\n",
        "\n",
        "# UPDATE: Modifies existing records in a table.\n",
        "\n",
        "# UPDATE table_name\n",
        "# SET column1 = value1, column2 = value2, ...\n",
        "# WHERE condition;\n",
        "\n",
        "# UPDATE Employees\n",
        "# SET Salary = 55000\n",
        "# WHERE EmployeeID = 101;\n",
        "\n",
        "\n",
        "# DELETE: Removes records from a table.\n",
        "\n",
        "\n",
        "# DELETE FROM table_name\n",
        "# WHERE condition;\n",
        "\n",
        "\n",
        "# DELETE FROM Employees\n",
        "# WHERE EmployeeID = 101;\n",
        "\n",
        "\n",
        "\n"
      ],
      "metadata": {
        "id": "w4UxMl9FwD0-"
      },
      "execution_count": null,
      "outputs": []
    },
    {
      "cell_type": "code",
      "source": [
        "# DQL stands for Data Query Language, a subset of SQL commands used to query or retrieve data from a database.\n",
        "\n",
        "# Examples :-\n",
        "\n",
        "# SELECT column1, column2, ...\n",
        "# FROM table_name;\n",
        "\n",
        "\n",
        "# SELECT Name, Department\n",
        "# FROM Employees;\n",
        "\n",
        "\n",
        "# SELECT *\n",
        "# FROM Employees;\n"
      ],
      "metadata": {
        "id": "UJ6LWrgrwhhf"
      },
      "execution_count": null,
      "outputs": []
    },
    {
      "cell_type": "code",
      "source": [
        "# Primary Key\n",
        "# It is the uniquely identify key of a table and NULL values are not allowed.\n",
        "\n",
        "# Forgien Key\n",
        "# It is the primary Key of another table that is used in another table its has almost same characterstics as of primary Key.\n"
      ],
      "metadata": {
        "id": "8DTVR_Drwx8q"
      },
      "execution_count": null,
      "outputs": []
    },
    {
      "cell_type": "code",
      "source": [
        "\n",
        "import mysql.connector\n",
        "\n",
        "\n",
        "connection = mysql.connector.connect(\n",
        "    host=\"localhost\",\n",
        "    user=\"your_username\",\n",
        "    password=\"your_password\",\n",
        "    database=\"your_database\"\n",
        ")\n",
        "\n",
        "cursor = connection.cursor()\n",
        "cursor.execute(\"SELECT * FROM your_table\")\n",
        "\n",
        "\n",
        "# The cursor() method creates a cursor object, which acts as an interface to interact with the database.\n",
        "\n",
        "# The execute() method is used to execute SQL queries or statements via the cursor object."
      ],
      "metadata": {
        "id": "od9B8oECxksK"
      },
      "execution_count": null,
      "outputs": []
    },
    {
      "cell_type": "code",
      "source": [
        "\n",
        "# When an SQL query is executed, the clauses are processed in a specific logical order, which may differ from the written order in the query.\n",
        "\n",
        "# Logical execution order for the example:\n",
        "SELECT Department, AVG(Salary) AS AvgSalary\n",
        "FROM Employees\n",
        "WHERE Salary > 50000\n",
        "GROUP BY Department\n",
        "HAVING AVG(Salary) > 60000\n",
        "ORDER BY AvgSalary DESC\n",
        "LIMIT 5;\n",
        "\n",
        "# FROM: Identify the table Employees.\n",
        "# WHERE: Filter rows where Salary > 50000.\n",
        "# GROUP BY: Group the remaining rows by Department.\n",
        "# HAVING: Filter groups where AVG(Salary) > 60000.\n",
        "# SELECT: Retrieve Department and the calculated AVG(Salary) as AvgSalary.\n",
        "# ORDER BY: Sort the results by AvgSalary in descending order.\n",
        "# LIMIT: Return the top 5 rows.\n",
        "\n"
      ],
      "metadata": {
        "id": "vvoUMGPKx4Em"
      },
      "execution_count": null,
      "outputs": []
    }
  ]
}