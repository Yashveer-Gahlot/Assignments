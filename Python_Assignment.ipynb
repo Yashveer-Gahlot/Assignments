{
  "nbformat": 4,
  "nbformat_minor": 0,
  "metadata": {
    "colab": {
      "provenance": [],
      "authorship_tag": "ABX9TyOiPazCOEs6kMNxxh6g60VB",
      "include_colab_link": true
    },
    "kernelspec": {
      "name": "python3",
      "display_name": "Python 3"
    },
    "language_info": {
      "name": "python"
    }
  },
  "cells": [
    {
      "cell_type": "markdown",
      "metadata": {
        "id": "view-in-github",
        "colab_type": "text"
      },
      "source": [
        "<a href=\"https://colab.research.google.com/github/Yashveer-Gahlot/Assignments/blob/main/Python_Assignment.ipynb\" target=\"_parent\"><img src=\"https://colab.research.google.com/assets/colab-badge.svg\" alt=\"Open In Colab\"/></a>"
      ]
    },
    {
      "cell_type": "code",
      "execution_count": 1,
      "metadata": {
        "colab": {
          "base_uri": "https://localhost:8080/"
        },
        "id": "aqXVAw2iPV44",
        "outputId": "957f1522-7332-4d7b-f801-6e781a82fc19"
      },
      "outputs": [
        {
          "output_type": "stream",
          "name": "stdout",
          "text": [
            "1\n",
            "2\n",
            "3\n",
            "4\n",
            "5\n",
            "0\n",
            "1\n",
            "2\n",
            "3\n",
            "4\n",
            "5\n"
          ]
        }
      ],
      "source": [
        "# Explain with an example each when to use a for loop and a while loop.\n",
        "\n",
        "#for loop\n",
        "# A for loop is best used when you know the number of iterations in advance, or when iterating over a sequence like a list, range, or string.\n",
        "# Using a for loop\n",
        "for i in range(1, 6):\n",
        "    print(i)\n",
        "\n",
        "#while loop\n",
        "# A while loop is ideal when the number of iterations is not known in advance and depends on a condition being met.\n",
        "n=0\n",
        "while(n<6):\n",
        "  print(n)\n",
        "  n+=1\n",
        "\n",
        "\n"
      ]
    },
    {
      "cell_type": "code",
      "source": [
        "# Write a python program to print the sum and product of the first 10 natural numbers using for\n",
        "# and while loop.\n",
        "\n",
        "# sum and product for loop\n",
        "sum=0\n",
        "p=1\n",
        "for i in range(1,11):\n",
        "  sum+=i;\n",
        "  p*=i;\n",
        "print(\"sum\",sum,end=\"\\n\")\n",
        "print(\"Product\",p)\n",
        "\n",
        "#sum and product while loop\n",
        "s=0\n",
        "pr=1\n",
        "i=1\n",
        "while(i<=10):\n",
        "  s+=i\n",
        "  pr*=i\n",
        "  i+=1\n",
        "print(\"sum\",s,end=\"\\n\")\n",
        "print(\"Product\",pr)\n"
      ],
      "metadata": {
        "colab": {
          "base_uri": "https://localhost:8080/"
        },
        "id": "k_AF-q0rWM-R",
        "outputId": "e16f567e-669f-4d39-ef26-93e32fa4b1d6"
      },
      "execution_count": 3,
      "outputs": [
        {
          "output_type": "stream",
          "name": "stdout",
          "text": [
            "sum 55\n",
            "Product 3628800\n",
            "sum 55\n",
            "Product 3628800\n"
          ]
        }
      ]
    },
    {
      "cell_type": "code",
      "source": [
        "# Create a python program to compute the electricity bill for a household.\n",
        "# The per-unit charges in rupees are as follows: For the first 100 units, the user will be charged Rs. 4.5 per\n",
        "# unit, for the next 100 units, the user will be charged Rs. 6 per unit, and for the next 100 units, the user will\n",
        "# be charged Rs. 10 per unit, After 300 units and above the user will be charged Rs. 20 per unit.\n",
        "\n",
        "\n",
        "n=int(input(\"Enter the units\"))\n",
        "if(n<=100):\n",
        "  print(n*4.5)\n",
        "elif(n<=200):\n",
        "  print((n-100)*6+100*4.5)\n",
        "elif(n<=300):\n",
        "  print((n-200)*10+100*6+100*4.5)\n",
        "else:\n",
        "  print((n-300)*20+10*100+6*100+100*4.5)"
      ],
      "metadata": {
        "colab": {
          "base_uri": "https://localhost:8080/"
        },
        "id": "qu9aiK89XC_M",
        "outputId": "8e46688e-d7b2-4a26-d2e1-a549f9b6ded3"
      },
      "execution_count": 5,
      "outputs": [
        {
          "output_type": "stream",
          "name": "stdout",
          "text": [
            "Enter the units310\n",
            "2250.0\n"
          ]
        }
      ]
    },
    {
      "cell_type": "code",
      "source": [
        "# Create a list of numbers from 1 to 100. Use for loop and while loop to calculate the cube of each\n",
        "# number and if the cube of that number is divisible by 4 or 5 then append that number in a list and print\n",
        "# that list.\n",
        "\n",
        "l=[]\n",
        "cubes=[]\n",
        "final=[]\n",
        "for i in range(1,101):\n",
        "  l.append(i)\n",
        "  cubes.append(i**3)\n",
        "for i in cubes:\n",
        "  if(i%4==0 or i%5==0):\n",
        "    final.append(i)\n",
        "print(final)\n"
      ],
      "metadata": {
        "colab": {
          "base_uri": "https://localhost:8080/"
        },
        "id": "Kqgm5b5OYAAe",
        "outputId": "08c30c23-3668-4bb8-edcb-4ca440628fbc"
      },
      "execution_count": 6,
      "outputs": [
        {
          "output_type": "stream",
          "name": "stdout",
          "text": [
            "[8, 64, 125, 216, 512, 1000, 1728, 2744, 3375, 4096, 5832, 8000, 10648, 13824, 15625, 17576, 21952, 27000, 32768, 39304, 42875, 46656, 54872, 64000, 74088, 85184, 91125, 97336, 110592, 125000, 140608, 157464, 166375, 175616, 195112, 216000, 238328, 262144, 274625, 287496, 314432, 343000, 373248, 405224, 421875, 438976, 474552, 512000, 551368, 592704, 614125, 636056, 681472, 729000, 778688, 830584, 857375, 884736, 941192, 1000000]\n"
          ]
        }
      ]
    },
    {
      "cell_type": "code",
      "source": [
        "# Write a program to filter count vowels in the below-given string.\n",
        "# string = \"I want to become a data scientist\"\n",
        "s=\"I want to become a data scientist\"\n",
        "counter=0\n",
        "for i in s:\n",
        "  if(i=='a' or i=='e' or i=='i' or i=='o' or i=='u'):\n",
        "    counter+=1\n",
        "print(counter)"
      ],
      "metadata": {
        "colab": {
          "base_uri": "https://localhost:8080/"
        },
        "id": "r22V64BgYruf",
        "outputId": "cd059a1b-87e8-4d34-b64d-d0db7dc59784"
      },
      "execution_count": 7,
      "outputs": [
        {
          "output_type": "stream",
          "name": "stdout",
          "text": [
            "11\n"
          ]
        }
      ]
    }
  ]
}