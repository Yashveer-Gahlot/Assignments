{
  "nbformat": 4,
  "nbformat_minor": 0,
  "metadata": {
    "colab": {
      "provenance": [],
      "authorship_tag": "ABX9TyPSuGfbNLYQBa38LAWTam6G",
      "include_colab_link": true
    },
    "kernelspec": {
      "name": "python3",
      "display_name": "Python 3"
    },
    "language_info": {
      "name": "python"
    }
  },
  "cells": [
    {
      "cell_type": "markdown",
      "metadata": {
        "id": "view-in-github",
        "colab_type": "text"
      },
      "source": [
        "<a href=\"https://colab.research.google.com/github/Yashveer-Gahlot/Assignments/blob/main/OOPS1(class_13).ipynb\" target=\"_parent\"><img src=\"https://colab.research.google.com/assets/colab-badge.svg\" alt=\"Open In Colab\"/></a>"
      ]
    },
    {
      "cell_type": "code",
      "execution_count": null,
      "metadata": {
        "id": "9u1w-IgE9d6O"
      },
      "outputs": [],
      "source": [
        "#~~~~~~~~~CLASS~~~~~~~~~~\n",
        "\n",
        "# what is class ?\n",
        "# a class is a user-defined data type that contains both the data itself and the methods that may be used to manipulate it.\n",
        "# we can define multiple function in a class which relate to same type of problem\n",
        "# Inside class fucntion we have to pass a parameter which is necessary called self.\n",
        "# SELF -> By using self in class function by it we can access class function it outside the class.\n",
        "# self binds the function to class if its not written in function parameter it will give error because func is defined inside the class.\n",
        "# object is the instance of class it helps us to access the function inside the class to outside.\n",
        "# if we have to access any function or variable outside the class we need object to access it.\n",
        "# there is one more function name __init__ which helps to take input inside the class.\n",
        "# using __init__ we can create variable which is accessible inside the class\n"
      ]
    },
    {
      "cell_type": "code",
      "source": [
        "# simple demonstration of how to define a class using simple class and object concepts\n",
        "\n",
        "class bankaccount:\n",
        "  def details(self,user_name,user_email):\n",
        "    print(\"open an account by taking name and email id\")\n",
        "  def update_details(self,updated_username,updated_emailid):\n",
        "    print(\"Updating the username and email id of the account holder\")\n",
        "  def deposit(self,amount):\n",
        "    print(\"Depositing the amount in my bankaccount\")\n",
        "  def withdraw(self,amount):\n",
        "    print(\"Withdrawing the amount from my bankaccount\")\n",
        "obj=bankaccount()\n",
        "obj.details(\"yashveer gahlot\",\"yash66@gmail.com\")\n"
      ],
      "metadata": {
        "colab": {
          "base_uri": "https://localhost:8080/"
        },
        "id": "yVlWkFwS-LGf",
        "outputId": "114ec207-d2dd-4702-ae24-c40301cc7567"
      },
      "execution_count": null,
      "outputs": [
        {
          "output_type": "stream",
          "name": "stdout",
          "text": [
            "open an account by taking name and email id\n"
          ]
        }
      ]
    },
    {
      "cell_type": "code",
      "source": [
        "# class example with __init__ function which takes input\n",
        "\n",
        "class book:\n",
        "  def __init__(self,name,author):           # this is how we assign input to these variables\n",
        "    self.name_of_book=name                  # to define variables inside the class and use it we need self for that\n",
        "    self.name_of_author=author\n",
        "  def extract_details(self):\n",
        "    print(\"The book is\",self.name_of_book,\"written by\",self.name_of_author)\n",
        "obj1=book('DSA algorithm','Cormen')\n",
        "obj2=book(\"Jujustu kaisen\",'Gege akatumi')\n",
        "obj1.extract_details()\n",
        "obj2.extract_details()"
      ],
      "metadata": {
        "colab": {
          "base_uri": "https://localhost:8080/"
        },
        "id": "3TQiENS7stma",
        "outputId": "785ce8dc-5cee-49ed-ac42-8dec14526e37"
      },
      "execution_count": null,
      "outputs": [
        {
          "output_type": "stream",
          "name": "stdout",
          "text": [
            "The book is DSA algorithm written by Cormen\n",
            "The book is Jujustu kaisen written by Gege akatumi\n"
          ]
        }
      ]
    },
    {
      "cell_type": "code",
      "source": [
        "# defining a class calculator which perform every task of calculator\n",
        "\n",
        "class calculator:\n",
        "  def __init__(self,a,b):\n",
        "    self.first_number=a\n",
        "    self.second_number=b\n",
        "  def sum(self):\n",
        "    print(\"The sum of two number is\",self.first_number+self.second_number)\n",
        "  def mul(self):\n",
        "    print(\"The multiply of two number is\",self.first_number*self.second_number)\n",
        "  def div(self):\n",
        "    print(\"The division of two number is\",self.first_number//self.second_number)\n",
        "  def sub(self):\n",
        "    print(\"The subtraction of two number is\",self.first_number-self.second_number)\n",
        "obj1=calculator(5,2)\n",
        "obj2=calculator(5,2)\n",
        "obj3=calculator(5,2)\n",
        "obj4=calculator(5,2)\n",
        "\n",
        "obj1.sum()\n",
        "obj2.sub()\n",
        "obj3.mul()\n",
        "obj4.div()\n",
        "\n",
        "\n"
      ],
      "metadata": {
        "colab": {
          "base_uri": "https://localhost:8080/"
        },
        "id": "r6HhbB7X4gFc",
        "outputId": "4085b7e9-2916-44e1-ed36-cee4f85333a3"
      },
      "execution_count": null,
      "outputs": [
        {
          "output_type": "stream",
          "name": "stdout",
          "text": [
            "The sum of two number is 7\n",
            "The subtraction of two number is 3\n",
            "The multiply of two number is 10\n",
            "The division of two number is 2\n"
          ]
        }
      ]
    },
    {
      "cell_type": "code",
      "source": [
        "# make a class of gmail for login,read mail,reply mail\n",
        "class gmail:\n",
        "  def __init__(self,username,password):\n",
        "    self.username_id=username\n",
        "    self.user_password=password\n",
        "    self.url=\"https://colab.research.google.com/drive/1JlJml8mcJWBYJwevx64-Diydn_gVNuGq?authuser=0#scrollTo=lhFa6Sm8-VG2\" # can give url as variable\n",
        "  def login(self):\n",
        "    print(\"LOGIN\")\n",
        "    print(\"user id\",self.username_id,\"password\",self.user_password)\n",
        "  def read(self):\n",
        "    print(\"user id for reading mail\",self.username_id)\n",
        "  def reply(self):\n",
        "    print(\"For reply give user id\",self.username_id)\n",
        "obj1=gmail(\"yash\",\"pass12\")\n",
        "obj2=gmail(\"harsh\",\"asdsd\")\n",
        "obj3=gmail(\"mandeep\",\"qwerty\")\n",
        "obj1.login()\n",
        "obj2.read()\n",
        "obj3.reply()"
      ],
      "metadata": {
        "colab": {
          "base_uri": "https://localhost:8080/"
        },
        "id": "lhFa6Sm8-VG2",
        "outputId": "3e2abc6b-ef31-4555-c092-965b2c0a4e01"
      },
      "execution_count": null,
      "outputs": [
        {
          "output_type": "stream",
          "name": "stdout",
          "text": [
            "LOGIN\n",
            "user id yash password pass12\n",
            "user id for reading mail harsh\n",
            "For reply give user id mandeep\n"
          ]
        }
      ]
    },
    {
      "cell_type": "code",
      "source": [],
      "metadata": {
        "id": "IlPlrrVVEs3F"
      },
      "execution_count": null,
      "outputs": []
    }
  ]
}