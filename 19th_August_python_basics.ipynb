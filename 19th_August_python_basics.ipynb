{
  "nbformat": 4,
  "nbformat_minor": 0,
  "metadata": {
    "colab": {
      "provenance": [],
      "authorship_tag": "ABX9TyMQlE/gH4MYc2RKB1epMVVj",
      "include_colab_link": true
    },
    "kernelspec": {
      "name": "python3",
      "display_name": "Python 3"
    },
    "language_info": {
      "name": "python"
    }
  },
  "cells": [
    {
      "cell_type": "markdown",
      "metadata": {
        "id": "view-in-github",
        "colab_type": "text"
      },
      "source": [
        "<a href=\"https://colab.research.google.com/github/Yashveer-Gahlot/Assignments/blob/main/19th_August_python_basics.ipynb\" target=\"_parent\"><img src=\"https://colab.research.google.com/assets/colab-badge.svg\" alt=\"Open In Colab\"/></a>"
      ]
    },
    {
      "cell_type": "code",
      "execution_count": null,
      "metadata": {
        "id": "zLOAJw5bIMKt",
        "colab": {
          "base_uri": "https://localhost:8080/"
        },
        "outputId": "b50d820d-2dd6-4af0-9c16-5dc866c80c62"
      },
      "outputs": [
        {
          "output_type": "stream",
          "name": "stdout",
          "text": [
            "2\n",
            "1\n"
          ]
        }
      ],
      "source": [
        "#Declare two variables, `x` and `y`, and assign them integer values. Swap the\n",
        "#values of these variables without using any temporary variable.\n",
        "\n",
        "x,y=1,2      # here defining x=1 and y=2\n",
        "x=x+y        # fist here we are defining x as addition of x and y\n",
        "y=x-y        # then we assign the subtraction y from x which gives us value x which is assigning to y\n",
        "x=x-y        # then we assign the subtraction x from y which gives us value swapped y which is assigning to x\n",
        "print(x)\n",
        "print(y)      # now here value is swapped x=2 and y=1"
      ]
    },
    {
      "cell_type": "code",
      "source": [
        "#Calculating the area of rectangle\n",
        "length=int(input(\"Enter the lenght of rectangle : \")) #taking input for length\n",
        "breath=int(input(\"Enter the breath of rectangle : \")) # taking input as breath\n",
        "print(\"The area of rectangle is :\",length*breath)   # applying the logic for area of rectangle"
      ],
      "metadata": {
        "colab": {
          "base_uri": "https://localhost:8080/"
        },
        "id": "LrOXz5SNTnkz",
        "outputId": "651d3c5e-b812-4fdf-ea8f-6b1fdbe86bb5"
      },
      "execution_count": null,
      "outputs": [
        {
          "output_type": "stream",
          "name": "stdout",
          "text": [
            "Enter the lenght of rectangle : 2\n",
            "Enter the breath of rectangle : 3\n",
            "The area of rectangle is : 6\n"
          ]
        }
      ]
    },
    {
      "cell_type": "code",
      "source": [
        "#converting celsius to farenhite\n",
        "cel=float(input(\"Enter the temprature in celsius : \")) #taking input in celsius\n",
        "far=(9/5*cel)+32  # applying the logic for converting it into farhenhite\n",
        "print(far)"
      ],
      "metadata": {
        "colab": {
          "base_uri": "https://localhost:8080/"
        },
        "id": "aDr1QQ8qUhPD",
        "outputId": "0bba2a18-685b-4d23-eb95-167d38f559fe"
      },
      "execution_count": null,
      "outputs": [
        {
          "output_type": "stream",
          "name": "stdout",
          "text": [
            "Enter the temprature in celsius : 30\n",
            "86.0\n"
          ]
        }
      ]
    },
    {
      "cell_type": "code",
      "source": [
        "#take string as input and display its length\n",
        "s=input(\"Enter the string : \")\n",
        "count=0\n",
        "for i in s:       # traversing loop through the string and counting the iterations and printing them\n",
        "  count+=1\n",
        "print(count)"
      ],
      "metadata": {
        "colab": {
          "base_uri": "https://localhost:8080/"
        },
        "id": "yJTwUGGFVMF9",
        "outputId": "c95a1b81-5fec-4abe-8f81-29bf2fba7de8"
      },
      "execution_count": null,
      "outputs": [
        {
          "output_type": "stream",
          "name": "stdout",
          "text": [
            "Enter the string : hello everyone\n",
            "14\n"
          ]
        }
      ]
    },
    {
      "cell_type": "code",
      "source": [
        "# enter the sentence and count vowels in it\n",
        "sen=input(\"Enter the sentence : \")\n",
        "count=0\n",
        "for i in range(len(sen)):\n",
        "  if sen[i] in \"AEIOUaeiou\":    # checking every character of string if its a vowel incrementing\n",
        "    count+=1\n",
        "print(count)\n"
      ],
      "metadata": {
        "colab": {
          "base_uri": "https://localhost:8080/"
        },
        "id": "MQVz2fb2WCm7",
        "outputId": "b1cc9144-a375-48ab-b4e0-1ece3a2c58fa"
      },
      "execution_count": 9,
      "outputs": [
        {
          "output_type": "stream",
          "name": "stdout",
          "text": [
            "Enter the sentence : hello\n",
            "2\n"
          ]
        }
      ]
    },
    {
      "cell_type": "code",
      "source": [
        "# reversing a given string using slicing\n",
        "d=input(\"Enter the string : \")\n",
        "print(\"Reversed string is\",d[-1::-1])"
      ],
      "metadata": {
        "colab": {
          "base_uri": "https://localhost:8080/"
        },
        "id": "7Ta8ar6q-2z3",
        "outputId": "ac22a66c-7b1f-4456-a567-8f4032b2a4b0"
      },
      "execution_count": 3,
      "outputs": [
        {
          "output_type": "stream",
          "name": "stdout",
          "text": [
            "Enter the string : hello\n",
            "Reversed string is olleh\n"
          ]
        }
      ]
    },
    {
      "cell_type": "code",
      "source": [
        "# check if the given strign is plaindrome or not\n",
        "st=input(\"Enter the string : \")\n",
        "if st==st[-1::-1]:\n",
        "  print(\"Yes its a plaindrome \")\n",
        "else:\n",
        "  print(\"No its not a palindrome \")"
      ],
      "metadata": {
        "colab": {
          "base_uri": "https://localhost:8080/"
        },
        "id": "sj9MmOIS_UgQ",
        "outputId": "b9ce5b30-bd63-45ed-ae84-d0b395bec918"
      },
      "execution_count": 5,
      "outputs": [
        {
          "output_type": "stream",
          "name": "stdout",
          "text": [
            "Enter the string : mom\n",
            "Yes its a plaindrome \n"
          ]
        }
      ]
    },
    {
      "cell_type": "code",
      "source": [
        "#removing all spaces from the string\n",
        "q=input(\"Enter the stirng : \")\n",
        "print(q.replace(\" \",\"\"))      # replacing all the spaces with no space"
      ],
      "metadata": {
        "colab": {
          "base_uri": "https://localhost:8080/"
        },
        "id": "1aESRbqoASQq",
        "outputId": "68a2bb31-c386-47cd-9001-b0c2c2ea2004"
      },
      "execution_count": 6,
      "outputs": [
        {
          "output_type": "stream",
          "name": "stdout",
          "text": [
            "Enter the stirng : hello everyone how are you\n",
            "helloeveryonehowareyou\n"
          ]
        }
      ]
    }
  ]
}