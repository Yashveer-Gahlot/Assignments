{
  "nbformat": 4,
  "nbformat_minor": 0,
  "metadata": {
    "colab": {
      "provenance": [],
      "authorship_tag": "ABX9TyPvh8/fAey9+SkqKAr3Qb2t",
      "include_colab_link": true
    },
    "kernelspec": {
      "name": "python3",
      "display_name": "Python 3"
    },
    "language_info": {
      "name": "python"
    }
  },
  "cells": [
    {
      "cell_type": "markdown",
      "metadata": {
        "id": "view-in-github",
        "colab_type": "text"
      },
      "source": [
        "<a href=\"https://colab.research.google.com/github/Yashveer-Gahlot/Assignments/blob/main/Abstraction_And_Encapsulation.ipynb\" target=\"_parent\"><img src=\"https://colab.research.google.com/assets/colab-badge.svg\" alt=\"Open In Colab\"/></a>"
      ]
    },
    {
      "cell_type": "code",
      "execution_count": 1,
      "metadata": {
        "colab": {
          "base_uri": "https://localhost:8080/"
        },
        "id": "WzkSIs4S9HCN",
        "outputId": "e996f46c-70c7-4cb3-a118-b7dfff44468e"
      },
      "outputs": [
        {
          "output_type": "stream",
          "name": "stdout",
          "text": [
            "Car engine started.\n",
            "Car engine stopped.\n"
          ]
        }
      ],
      "source": [
        "# Abstraction is a principle in object-oriented programming (OOP) that hides the implementation details of a class and exposes\n",
        "# only the essential features to the user. The goal is to reduce complexity by showing only the relevant aspects of an object while concealing its underlying logic.\n",
        "\n",
        "from abc import ABC, abstractmethod\n",
        "\n",
        "class Vehicle(ABC):  # Abstract class\n",
        "    @abstractmethod\n",
        "    def start_engine(self):\n",
        "        pass\n",
        "\n",
        "    @abstractmethod\n",
        "    def stop_engine(self):\n",
        "        pass\n",
        "\n",
        "class Car(Vehicle):  # Concrete class\n",
        "    def start_engine(self):\n",
        "        print(\"Car engine started.\")\n",
        "\n",
        "    def stop_engine(self):\n",
        "        print(\"Car engine stopped.\")\n",
        "\n",
        "# Usage\n",
        "car = Car()\n",
        "car.start_engine()  # Output: Car engine started.\n",
        "car.stop_engine()   # Output: Car engine stopped.\n"
      ]
    },
    {
      "cell_type": "code",
      "source": [
        "\n",
        "\n",
        "\n",
        "\n",
        "\n",
        "# Abstraction Example\n",
        "from abc import ABC, abstractmethod\n",
        "\n",
        "class Shape(ABC):\n",
        "    @abstractmethod\n",
        "    def area(self):\n",
        "        pass\n",
        "\n",
        "class Rectangle(Shape):\n",
        "    def __init__(self, width, height):\n",
        "        self.width = width\n",
        "        self.height = height\n",
        "\n",
        "    def area(self):\n",
        "        return self.width * self.height\n",
        "\n",
        "rect = Rectangle(10, 5)\n",
        "print(rect.area())  # Output: 50\n",
        "\n",
        "\n",
        "# Encapsulation example\n",
        "\n",
        "class BankAccount:\n",
        "    def __init__(self, balance):\n",
        "        self.__balance = balance  # Private attribute\n",
        "\n",
        "    def deposit(self, amount):\n",
        "        self.__balance += amount\n",
        "\n",
        "    def get_balance(self):\n",
        "        return self.__balance\n",
        "\n",
        "account = BankAccount(1000)\n",
        "account.deposit(500)\n",
        "print(account.get_balance())  # Output: 1500\n"
      ],
      "metadata": {
        "id": "9VqkX-oXAOf4"
      },
      "execution_count": null,
      "outputs": []
    },
    {
      "cell_type": "code",
      "source": [
        "# The abc module in Python stands for Abstract Base Classes. It provides a way to define abstract\n",
        "# classes and enforce that derived classes implement specific methods.\n",
        "\n",
        "\n",
        "from abc import ABC, abstractmethod\n",
        "\n",
        "class Animal(ABC):\n",
        "    @abstractmethod\n",
        "    def make_sound(self):\n",
        "        pass\n",
        "\n",
        "class Dog(Animal):\n",
        "    def make_sound(self):\n",
        "        return \"Bark\"\n",
        "\n",
        "dog = Dog()\n",
        "print(dog.make_sound())  # Output: Bark\n"
      ],
      "metadata": {
        "id": "PWduCOqpAaL1"
      },
      "execution_count": 2,
      "outputs": []
    },
    {
      "cell_type": "code",
      "source": [
        "# We can achieve data abstraction in Python by:\n",
        "\n",
        "# Using abstract classes and the abc module.\n",
        "# Declaring abstract methods that must be implemented in derived classes.\n",
        "\n",
        "from abc import ABC, abstractmethod\n",
        "\n",
        "class Appliance(ABC):\n",
        "    @abstractmethod\n",
        "    def turn_on(self):\n",
        "        pass\n",
        "\n",
        "    @abstractmethod\n",
        "    def turn_off(self):\n",
        "        pass\n",
        "\n",
        "class WashingMachine(Appliance):\n",
        "    def turn_on(self):\n",
        "        print(\"Washing Machine is now ON.\")\n",
        "\n",
        "    def turn_off(self):\n",
        "        print(\"Washing Machine is now OFF.\")\n",
        "\n",
        "# Usage\n",
        "machine = WashingMachine()\n",
        "machine.turn_on()  # Output: Washing Machine is now ON.\n",
        "machine.turn_off()  # Output: Washing Machine is now OFF.\n"
      ],
      "metadata": {
        "colab": {
          "base_uri": "https://localhost:8080/"
        },
        "id": "ee9XlLemAgIA",
        "outputId": "e1ff14b0-d0dc-4701-e698-5b38c37ca173"
      },
      "execution_count": 3,
      "outputs": [
        {
          "output_type": "stream",
          "name": "stdout",
          "text": [
            "Washing Machine is now ON.\n",
            "Washing Machine is now OFF.\n"
          ]
        }
      ]
    },
    {
      "cell_type": "code",
      "source": [
        "# No, we cannot create an instance of an abstract class. Abstract classes are incomplete because they may have abstract methods that do not have an implementation.\n",
        "# They are meant to be extended by derived classes that provide concrete implementations of the abstract methods.\n",
        "\n",
        "from abc import ABC, abstractmethod\n",
        "\n",
        "class AbstractClass(ABC):\n",
        "    @abstractmethod\n",
        "    def abstract_method(self):\n",
        "        pass\n",
        "\n",
        "# Trying to create an instance of AbstractClass\n",
        "# obj = AbstractClass()  # This will raise a TypeError\n",
        "\n",
        "\n"
      ],
      "metadata": {
        "id": "P8616rs_An8W"
      },
      "execution_count": null,
      "outputs": []
    }
  ]
}