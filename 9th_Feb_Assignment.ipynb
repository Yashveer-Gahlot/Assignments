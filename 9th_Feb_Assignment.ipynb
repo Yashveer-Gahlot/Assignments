{
  "nbformat": 4,
  "nbformat_minor": 0,
  "metadata": {
    "colab": {
      "provenance": [],
      "authorship_tag": "ABX9TyOB4/6W0N4tEvkaxziP1RK+",
      "include_colab_link": true
    },
    "kernelspec": {
      "name": "python3",
      "display_name": "Python 3"
    },
    "language_info": {
      "name": "python"
    }
  },
  "cells": [
    {
      "cell_type": "markdown",
      "metadata": {
        "id": "view-in-github",
        "colab_type": "text"
      },
      "source": [
        "<a href=\"https://colab.research.google.com/github/Yashveer-Gahlot/Assignments/blob/main/9th_Feb_Assignment.ipynb\" target=\"_parent\"><img src=\"https://colab.research.google.com/assets/colab-badge.svg\" alt=\"Open In Colab\"/></a>"
      ]
    },
    {
      "cell_type": "code",
      "source": [
        "# Create a vehicle class with an init method having instance variables as name_of_vehicle, max_speed\n",
        "# and average_of_vehicle.\n",
        "\n",
        "class vehicle:\n",
        "    def __init__(self,name_of_vehicle,max_speed,average_of_vehicle):\n",
        "        self.name_of_vehicle=name_of_vehicle\n",
        "        self.max_speed=max_speed\n",
        "        self.average_of_vehicle=average_of_vehicle"
      ],
      "metadata": {
        "id": "oXh4qlSZKB9J"
      },
      "execution_count": null,
      "outputs": []
    },
    {
      "cell_type": "code",
      "source": [
        "# Create a child class car from the vehicle class created in Que 1, which will inherit the vehicle class.\n",
        "# Create a method named seating_capacity which takes capacity as an argument and returns the name of\n",
        "# the vehicle and its seating capacity.\n",
        "\n",
        "class vehicle:\n",
        "    def __init__(self,name_of_vehicle,max_speed,average_of_vehicle):\n",
        "        self.name_of_vehicle=name_of_vehicle\n",
        "        self.max_speed=max_speed\n",
        "        self.average_of_vehicle=average_of_vehicle\n",
        "\n",
        "class car(vehicle):\n",
        "    def seating_capacity(self,capacity):\n",
        "        return f\"{self.name_of_vehicle} has a seating capacity of {capacity} people.\"\n"
      ],
      "metadata": {
        "id": "dNhpGeBmwHKv"
      },
      "execution_count": null,
      "outputs": []
    },
    {
      "cell_type": "code",
      "source": [
        "# What is multiple inheritance? Write a python code to demonstrate multiple inheritance.\n",
        "\n",
        "# when a class inherits multiple classes it is multiple inheritance because a singular class inherits multiple classes\n",
        "\n",
        "\n",
        "class A:\n",
        "    def __init__(self):\n",
        "      pass\n",
        "    def hi_a(self):\n",
        "      print(\"Hi from Class A\")\n",
        "class B:\n",
        "    def __init__(self):\n",
        "      pass\n",
        "    def hi_b(self):\n",
        "      print(\"Hi from Class B\")\n",
        "class C(A,B):\n",
        "    def __init__(self):\n",
        "      pass\n",
        "    def hi(self):\n",
        "      print(\"Hi from Class C\")\n",
        "my_obj=C\n",
        "C.hi_a(my_obj)\n",
        "C.hi_b(my_obj)"
      ],
      "metadata": {
        "colab": {
          "base_uri": "https://localhost:8080/"
        },
        "id": "d3t5QxXFwc-A",
        "outputId": "611273af-df80-44b0-838f-8cdd82baa970"
      },
      "execution_count": 3,
      "outputs": [
        {
          "output_type": "stream",
          "name": "stdout",
          "text": [
            "Hi from Class A\n",
            "Hi from Class B\n"
          ]
        }
      ]
    },
    {
      "cell_type": "code",
      "source": [
        "# What are getter and setter in python? Create a class and create a getter and a setter method in this\n",
        "# class.\n",
        "\n",
        "# Getter\n",
        "#  this is a function which is used to get the information out of the class using a function getter\n",
        "\n",
        "\n",
        "# Setter\n",
        "#  this is a function which is used to set the desired information to the class using a function setter\n",
        "\n",
        "class Example:\n",
        "  def __init__(self,name):\n",
        "    self.name=name\n",
        "  def get(self):\n",
        "    print(\"Nmae is \",self.name)\n",
        "  def set(self,name):\n",
        "    self.name=name\n",
        "    print(\"Name is set to \",self.name)\n",
        "obj=Example(\"Yash\")\n",
        "obj.get()\n",
        "obj.set(\"Yashveer\")"
      ],
      "metadata": {
        "colab": {
          "base_uri": "https://localhost:8080/"
        },
        "id": "69ztezC61dLU",
        "outputId": "fff30057-cee0-46d6-cee8-b2b34f5db99a"
      },
      "execution_count": 5,
      "outputs": [
        {
          "output_type": "stream",
          "name": "stdout",
          "text": [
            "Nmae is  Yash\n",
            "Name is set to  Yashveer\n"
          ]
        }
      ]
    },
    {
      "cell_type": "code",
      "source": [
        "# What is method overriding in python? Write a python code to demonstrate method overriding.\n",
        "\n",
        "class Animal:\n",
        "    def sound(self):\n",
        "        return \"Animals make different sounds.\"\n",
        "\n",
        "\n",
        "class Dog(Animal):\n",
        "    def sound(self):\n",
        "        return \"Dogs bark.\"\n",
        "\n",
        "class Cat(Animal):\n",
        "    def sound(self):\n",
        "        return \"Cats meow.\"\n",
        "\n",
        "\n",
        "generic_animal = Animal()\n",
        "dog = Dog()\n",
        "cat = Cat()\n",
        "\n",
        "print(\"Animal sound:\", generic_animal.sound())\n",
        "print(\"Dog sound:\", dog.sound())\n",
        "print(\"Cat sound:\", cat.sound())\n"
      ],
      "metadata": {
        "colab": {
          "base_uri": "https://localhost:8080/"
        },
        "id": "wqW_Yeuk1jLU",
        "outputId": "d731ab45-f623-46f7-ef44-cf09e9baead1"
      },
      "execution_count": 6,
      "outputs": [
        {
          "output_type": "stream",
          "name": "stdout",
          "text": [
            "Animal sound: Animals make different sounds.\n",
            "Dog sound: Dogs bark.\n",
            "Cat sound: Cats meow.\n"
          ]
        }
      ]
    }
  ]
}